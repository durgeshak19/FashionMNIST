{
 "cells": [
  {
   "cell_type": "code",
   "execution_count": null,
   "metadata": {},
   "outputs": [],
   "source": [
    "import tensorflow as tf \n",
    "import numpy as np \n",
    "import pandas as pd\n",
    "import matplotlib.pyplot as plt\n",
    "print(tf.__version__)\n",
    "\n",
    "\n",
    "\n",
    "class mycallback(tf.keras.callbacks.Callback):\n",
    "    def on_epoch_end(self, epoch,logs = {}):\n",
    "        if(logs.get('loss') < 0.4):\n",
    "            print(\"\\n Reached expected loss tolerance,so cancelling \")\n",
    "            self.model.stop_training = True\n",
    "\n",
    "callbacks = mycallback()\n",
    "\n",
    "mnist = tf.keras.dataset.fashion_mnist\n",
    "\n",
    "(train_img, train_label),(test_img, test_label) = mnist.load_data()\n",
    "\n",
    "plt.imshow(train_img[0])\n",
    "print(train_img[0])\n",
    "print(train_label[0])\n",
    "\n",
    "train_img =train_img/255.0\n",
    "test_img =test_img/255.0\n",
    "\n",
    "\n",
    "\n",
    "model = tf.keras.models.Sequential([\n",
    "    tf.keras.layers.Conv2d(64,(3,3),activation='relu',input_shape=(28,28,1),),\n",
    "    tf.keras.layers.MaxPooling2d(2,2),\n",
    "    tf.keras.layers.Conv2d(64,(3,3),activation='relu'),\n",
    "    tf.keras.layers.MaxPooling2d(2,2),\n",
    "    tf.keras.layers.Flatten(),\n",
    "    tf.keras.layers.Dense(512 , activation = tf.nn.relu),\n",
    "    tf.keras.layers.Dense(10 , activation = tf.nn.softmax)        \n",
    "])\n",
    "\n",
    "model.compile(optimizer = 'adam',\n",
    "             loss = 'sparse_categorical_crossentropy',\n",
    "             metrics = ['accuracy'])\n",
    "\n",
    "model.summary()\n",
    "\n",
    "history = model.fit(train_img , train_label,callbacks=[callbacks],epochs =50)\n",
    "test_loss = model.evaluate(test_img,test_label)\n",
    "\n",
    "classifications = model.predict(test_images)\n",
    "\n",
    "print(classifications[0])\n",
    "print(test_labels[0])"
   ]
  },
  {
   "cell_type": "markdown",
   "metadata": {},
   "source": [
    "visualizing convnet\n"
   ]
  },
  {
   "cell_type": "code",
   "execution_count": 1,
   "metadata": {},
   "outputs": [
    {
     "ename": "SyntaxError",
     "evalue": "invalid syntax (<ipython-input-1-35e2f2b4095e>, line 4)",
     "output_type": "error",
     "traceback": [
      "\u001b[0;36m  File \u001b[0;32m\"<ipython-input-1-35e2f2b4095e>\"\u001b[0;36m, line \u001b[0;32m4\u001b[0m\n\u001b[0;31m    THIRD_IMG 28\u001b[0m\n\u001b[0m               ^\u001b[0m\n\u001b[0;31mSyntaxError\u001b[0m\u001b[0;31m:\u001b[0m invalid syntax\n"
     ]
    }
   ],
   "source": [
    "from tensorflow.keras import models\n",
    "import matplotlib.pyplot as plt\n",
    "\n",
    "f , axarr = plt.subplot(3,4)\n",
    "FIRST_IMG = 0\n",
    "SECOND_IMG = 23\n",
    "THIRD_IMG = 28\n",
    "CONVOLUTION_NUMBER = 1\n",
    "layers_outputs = [layer.output for layer in model.layers]\n",
    "activation_model  =tf.keras.models.Models(inputs = model.input , outputs = layers)\n",
    "\n",
    "for x in range(0,4):\n",
    "    f1 = activation_model.predict(test_img[FIRST_IMG].reshape(1,28,28,1))[x]\n",
    "    axarr[0,x].imshow(f1[0,:,:,CONVOLUTION_NUMBER],cmap = 'inferno')\n",
    "    axarr[0,x].grid(False)\n",
    "    \n",
    "    f2 = activation_model.predict(test_img[SECOND_IMG].reshape(1,28,28,1))[x]\n",
    "    axarr[1,x].imshow(f2[0,:,:,CONVOLUTION_NUMBER],cmap = 'inferno')\n",
    "    axarr[1,x].grid(False)\n",
    "    \n",
    "    f3 = activation_model.predict(test_img[THIRD_IMG].reshape(1,28,28,1))[x]\n",
    "    axarr[2,x].imshow(f3[0,:,:,CONVOLUTION_NUMBER],cmap = 'inferno')\n",
    "    axarr[2,x].grid(False)\n",
    "    \n",
    "    "
   ]
  },
  {
   "cell_type": "code",
   "execution_count": null,
   "metadata": {},
   "outputs": [],
   "source": []
  }
 ],
 "metadata": {
  "kernelspec": {
   "display_name": "Python 3",
   "language": "python",
   "name": "python3"
  },
  "language_info": {
   "codemirror_mode": {
    "name": "ipython",
    "version": 3
   },
   "file_extension": ".py",
   "mimetype": "text/x-python",
   "name": "python",
   "nbconvert_exporter": "python",
   "pygments_lexer": "ipython3",
   "version": "3.6.9"
  }
 },
 "nbformat": 4,
 "nbformat_minor": 4
}
